{
 "cells": [
  {
   "cell_type": "markdown",
   "metadata": {},
   "source": [
    "# Partitioning and Law of Total Probability - Lab\n",
    "\n",
    "## Introduction \n",
    "In this lab, you'll practice your knowledge of the law of total probability. In probability theory, the law (or formula) of total probability is a fundamental rule relating **marginal probabilities** to **conditional probabilities**.\n",
    "\n",
    "## Objectives\n",
    "\n",
    "You will be able to:\n",
    "\n",
    "* Differentiate between independent and dependent events\n",
    "* Perform partitioning based on known and unknown probabilities to solve a problem"
   ]
  },
  {
   "cell_type": "markdown",
   "metadata": {},
   "source": [
    "## Exercise 1\n",
    "Imagine you have two hats: one has 4 red balls and 6 green balls, the other has 6 red and 4 green. We toss a fair coin, if heads, you will pick a random ball from the first hat, if tails you will pick one from the second hat. \n",
    "\n",
    "What is the probability of getting a red ball?"
   ]
  },
  {
   "cell_type": "code",
   "execution_count": 1,
   "metadata": {},
   "outputs": [
    {
     "data": {
      "text/plain": [
       "0.5"
      ]
     },
     "execution_count": 1,
     "metadata": {},
     "output_type": "execute_result"
    }
   ],
   "source": [
    "# Your code here\n",
    "# A = ball color\n",
    "# B = coin flip\n",
    "# 𝑃(𝐴)=𝑃(𝐴∣𝐵)𝑃(𝐵)+𝑃(𝐴∣𝐵𝑐)𝑃(𝐵𝑐)\n",
    "\n",
    "prob_red = (4/10)*(1/2)+(6/10)*(1/2)\n",
    "prob_red"
   ]
  },
  {
   "cell_type": "markdown",
   "metadata": {},
   "source": [
    "## Exercise 2\n",
    "In games where at least one goal is made, a soccer team wins 60% of its games when it scores the first goal, and 10% of its games when the opposing team \n",
    "scores first. \n",
    "\n",
    "If the team scores the first goal about 30% of the time, what fraction of the games does it win?"
   ]
  },
  {
   "cell_type": "code",
   "execution_count": 3,
   "metadata": {},
   "outputs": [
    {
     "data": {
      "text/plain": [
       "0.25"
      ]
     },
     "execution_count": 3,
     "metadata": {},
     "output_type": "execute_result"
    }
   ],
   "source": [
    "# Your code here\n",
    "\n",
    "# .60 win chance when score first goal -> happens .30 of time\n",
    "\n",
    "# .10 win chance when opponent score first goal\n",
    "\n",
    "# B = who scores first goal\n",
    "\n",
    "# A = probability of winning\n",
    "\n",
    "# 𝑃(𝐴)=𝑃(𝐴∣𝐵)𝑃(𝐵)+𝑃(𝐴∣𝐵𝑐)𝑃(𝐵𝑐)\n",
    "\n",
    "prob_of_winning = (.60*.30) + (.10*.70)\n",
    "prob_of_winning"
   ]
  },
  {
   "cell_type": "markdown",
   "metadata": {},
   "source": [
    "## Exercise 3"
   ]
  },
  {
   "cell_type": "markdown",
   "metadata": {},
   "source": [
    "In Europe, except for regular gas, cars often run on diesel as well. At a gas station in Paris; \n",
    "\n",
    "\n",
    "* 40% of the customers fill up with diesel (event G1) \n",
    "* 35% with gas \"Super 95\" (event G2)\n",
    "* 25% with gas \"Super 98\" (event G3). \n",
    "\n",
    "\n",
    "* 30% of the customers who buy diesel fill their tank completely (event F). \n",
    "* For \"Super 95\" and \"Super 98\", these numbers are  60% and 50%, respectively.\n",
    "\n",
    "\n",
    "- Compute the probability that the next customer completely fills their tank and buys Super 95. \n",
    "- Compute the probability that the next customer completely fills their tank\n",
    "- Given that the next customer fills their tank completely, compute the probability that they bought diesel. \n",
    "\n",
    "Hint: Consult the theorems for conditional probability, check for dependence or independence of events"
   ]
  },
  {
   "cell_type": "code",
   "execution_count": 6,
   "metadata": {},
   "outputs": [
    {
     "data": {
      "text/plain": [
       "0.26373626373626374"
      ]
     },
     "execution_count": 6,
     "metadata": {},
     "output_type": "execute_result"
    }
   ],
   "source": [
    "# Your code here\n",
    "# G1 = .40\n",
    "# G2 = .35 \n",
    "# G3 = .25 \n",
    "# FT = fill tank completely\n",
    "\n",
    "# P(FT | G1) = .30\n",
    "# P(FT | G2) = .60\n",
    "# P(FT | G3) = .50\n",
    "\n",
    "# Compute the probability that the next customer completely fills their tank and buys Super 95.\n",
    "ft_super_95 = .35*.60\n",
    "ft_super_95\n",
    "\n",
    "# Compute the probability that the next customer completely fills their tank\n",
    "ft_diesel = .40*.30\n",
    "ft_super_98 = .25*.50\n",
    "\n",
    "prob_ft = ft_super_95 + ft_diesel + ft_super_98\n",
    "prob_ft\n",
    "\n",
    "# Given that the next customer fills their tank completely, compute the probability that they bought diesel\n",
    "prob_diesel = (.40*.30)/prob_ft\n",
    "prob_diesel\n",
    "\n"
   ]
  },
  {
   "cell_type": "markdown",
   "metadata": {},
   "source": [
    "## Exercise 4"
   ]
  },
  {
   "cell_type": "markdown",
   "metadata": {},
   "source": [
    "United Airlines operates flights from JFK to Amsterdam, to Brussels, and to Copenhagen. As you may know, flights are overbooked fairly often. Let's denote the probability of the flight to Amsterdam being overbooked equal to 40%, the probability of the flight to Brussels being overbooked equal to 25%, and the probability of the flight to Copenhagen being overbooked equal to 35%. You can assume that these events of overbooking are independent events."
   ]
  },
  {
   "cell_type": "markdown",
   "metadata": {},
   "source": [
    "- Compute the probability that all the flights are overbooked.\n",
    "- Compute the probability of having at least one flight which is not overbooked.\n",
    "- Compute the probability that exactly one flight is overbooked."
   ]
  },
  {
   "cell_type": "code",
   "execution_count": 7,
   "metadata": {},
   "outputs": [
    {
     "data": {
      "text/plain": [
       "0.45"
      ]
     },
     "execution_count": 7,
     "metadata": {},
     "output_type": "execute_result"
    }
   ],
   "source": [
    "# Your code here\n",
    "amsterdam_overbook = .4\n",
    "brussels_overbook = .25\n",
    "copenhagen_overbook = .35\n",
    "\n",
    "# Compute the probability that all the flights are overbooked.\n",
    "all_overbooked = .4*.25*.35\n",
    "all_overbooked # .035\n",
    "\n",
    "# Compute the probability of having at least one flight which is not overbooked.\n",
    "at_least_one_not_overbooked = 1 - all_overbooked\n",
    "at_least_one_not_overbooked # 0.965\n",
    "\n",
    "# Compute the probability that exactly one flight is overbooked.\n",
    "p_amsterdam_just_one = 0.4*0.75*0.65 # (1-p for other flights)\n",
    "p_brussels_just_one = 0.6*0.25*0.65\n",
    "p_copenhagen_just_one = 0.6*0.75*0.35\n",
    "p_just_one = p_amsterdam_just_one + p_brussels_just_one + p_copenhagen_just_one\n",
    "p_just_one # 0.45"
   ]
  },
  {
   "cell_type": "markdown",
   "metadata": {},
   "source": [
    "## Exercise 5\n",
    "You have three bags that each contain 100 marbles:\n",
    "\n",
    "- Bag 1 has 75 red and 25 blue marbles;\n",
    "- Bag 2 has 60 red and 40 blue marbles;\n",
    "- Bag 3 has 45 red and 55 blue marbles.\n",
    "\n",
    "You choose one of the bags at random and then pick a marble from the chosen bag, also at random. \n",
    "\n",
    "What is the probability that the chosen marble is red?\n"
   ]
  },
  {
   "cell_type": "code",
   "execution_count": 8,
   "metadata": {},
   "outputs": [
    {
     "data": {
      "text/plain": [
       "0.6"
      ]
     },
     "execution_count": 8,
     "metadata": {},
     "output_type": "execute_result"
    }
   ],
   "source": [
    "# Your code here\n",
    "prob_red = (1/3)*(75/100)+(1/3)*(60/100)+(1/3)*(45/100)\n",
    "prob_red"
   ]
  },
  {
   "cell_type": "markdown",
   "metadata": {},
   "source": [
    "## Summary \n",
    "\n",
    "In this lab, you practiced conditional probability and its theorem with some simple problems. The key takeaway from this lab is to be able to identify random events as dependent or independent and calculating the probability of their occurrence using appropriate methods. Next, you'll take this knowledge a step further and run simulations with conditional and total probability. "
   ]
  }
 ],
 "metadata": {
  "kernelspec": {
   "display_name": "Python 3",
   "language": "python",
   "name": "python3"
  },
  "language_info": {
   "codemirror_mode": {
    "name": "ipython",
    "version": 3
   },
   "file_extension": ".py",
   "mimetype": "text/x-python",
   "name": "python",
   "nbconvert_exporter": "python",
   "pygments_lexer": "ipython3",
   "version": "3.6.9"
  },
  "toc": {
   "base_numbering": 1,
   "nav_menu": {},
   "number_sections": true,
   "sideBar": true,
   "skip_h1_title": false,
   "title_cell": "Table of Contents",
   "title_sidebar": "Contents",
   "toc_cell": false,
   "toc_position": {},
   "toc_section_display": true,
   "toc_window_display": false
  }
 },
 "nbformat": 4,
 "nbformat_minor": 2
}
